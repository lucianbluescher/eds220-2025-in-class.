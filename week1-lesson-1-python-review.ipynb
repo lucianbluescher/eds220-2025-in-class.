{
 "cells": [
  {
   "cell_type": "markdown",
   "id": "5cd2e870-6cfc-46d5-8bf5-cdd8a4e2f6c4",
   "metadata": {},
   "source": [
    "# Python Review\n",
    "\n",
    "Goals: \n",
    "- recall basic Python vocabulary\n",
    "- practice markdown\n",
    "\n",
    "## Libraries and pakcages\n",
    "\n",
    "**library**: a collection of code that we can use to perform specific tasks in our programs.\n",
    "\n",
    "**NumPy**:\n",
    "- core library for numerical computing in Python\n",
    "- Many other libraries use NumPy arrays as building blocks\n",
    "- computations on NumPy are optimized for speed and memory usage\n",
    "\n",
    "Let's import NumPy with **standard abbreviations**"
   ]
  },
  {
   "cell_type": "code",
   "execution_count": 1,
   "id": "10d0e48b-7bff-4503-b4c4-59ef03bccb54",
   "metadata": {
    "tags": []
   },
   "outputs": [],
   "source": [
    "import numpy as np"
   ]
  },
  {
   "cell_type": "markdown",
   "id": "b7d9677b-4652-4164-baef-69c1cf9f9693",
   "metadata": {},
   "source": [
    "## Variables\n",
    "\n",
    "**variable**: a name we assign to a particular object in Python'\n",
    "\n",
    "Example: "
   ]
  },
  {
   "cell_type": "code",
   "execution_count": 2,
   "id": "0a48e18e-b8f6-4b27-99c5-b68e695b1398",
   "metadata": {
    "tags": []
   },
   "outputs": [],
   "source": [
    "# Assign a small array to a variable a\n",
    "a = np.array([[1,1,2], [3,5,8]])"
   ]
  },
  {
   "cell_type": "code",
   "execution_count": 3,
   "id": "3063a351-ac1a-474e-b67e-358494819ae5",
   "metadata": {
    "tags": []
   },
   "outputs": [
    {
     "data": {
      "text/plain": [
       "array([[1, 1, 2],\n",
       "       [3, 5, 8]])"
      ]
     },
     "execution_count": 3,
     "metadata": {},
     "output_type": "execute_result"
    }
   ],
   "source": [
    "# Run cell with the variable name to show value\n",
    "a"
   ]
  },
  {
   "cell_type": "code",
   "execution_count": 4,
   "id": "8f6dc899-75b7-4798-97e4-08969e2f1a69",
   "metadata": {
    "tags": []
   },
   "outputs": [
    {
     "name": "stdout",
     "output_type": "stream",
     "text": [
      "[[1 1 2]\n",
      " [3 5 8]]\n"
     ]
    }
   ],
   "source": [
    "# Use the 'print' function to print the value\n",
    "print(a)"
   ]
  },
  {
   "cell_type": "markdown",
   "id": "f58fcf06-16e4-468b-86ed-a9a8acce93af",
   "metadata": {},
   "source": [
    "## Objects\n",
    "\n",
    "**object** (informally speaking) is a bundle of *properties* and *actions* about something specific.\n",
    "\n",
    "Example:\n",
    "\n",
    "Object: data frame\n",
    "\n",
    "Properties: number rows, names of the columns, date created\n",
    "\n",
    "Actions: selecting a specific row, adding a new column\n",
    "\n",
    "A variable is the name we give a specific object, and the same object can be referenced by different variables.\n",
    "\n",
    "In practice, we can often use variable and object interchangeably\n",
    "\n",
    "## Types\n",
    "\n",
    "Every object in Python has a **type**. The type tellls us what kind of object it is.\n",
    "\n",
    "We can also class the type of an object, the **class** of an object an they both mean what kind of object it is."
   ]
  },
  {
   "cell_type": "code",
   "execution_count": 7,
   "id": "f3d1af1a-b274-4938-963c-1a427cdec465",
   "metadata": {
    "tags": []
   },
   "outputs": [
    {
     "name": "stdout",
     "output_type": "stream",
     "text": [
      "[[1 1 2]\n",
      " [3 5 8]]\n"
     ]
    },
    {
     "data": {
      "text/plain": [
       "numpy.ndarray"
      ]
     },
     "execution_count": 7,
     "metadata": {},
     "output_type": "execute_result"
    }
   ],
   "source": [
    "print(a)\n",
    "\n",
    "# Check the class/type of a variable/object using the 'type' function\n",
    "\n",
    "type(a)"
   ]
  },
  {
   "cell_type": "code",
   "execution_count": 17,
   "id": "91c79a08-90a6-4c7a-8065-b4f2714ac687",
   "metadata": {
    "tags": []
   },
   "outputs": [
    {
     "name": "stdout",
     "output_type": "stream",
     "text": [
      "3\n"
     ]
    },
    {
     "data": {
      "text/plain": [
       "numpy.int64"
      ]
     },
     "execution_count": 17,
     "metadata": {},
     "output_type": "execute_result"
    }
   ],
   "source": [
    "print(a[0,0])\n",
    "\n",
    "# Check the type of an entry in the array by indexing\n",
    "type(a[0,0])"
   ]
  },
  {
   "cell_type": "markdown",
   "id": "870ae3c4-039d-427e-84a2-ac2bcad379cf",
   "metadata": {},
   "source": [
    "Notice that 'type(a[0,0])' is a 'numpy.int64' and not just the standard Python integer type. This is telling us that 1 is an iteger stored as a 64 bit number"
   ]
  },
  {
   "cell_type": "code",
   "execution_count": 19,
   "id": "bc592a56-0dee-4555-9bb1-e5d0b3d6f5d3",
   "metadata": {
    "tags": []
   },
   "outputs": [
    {
     "data": {
      "text/plain": [
       "5"
      ]
     },
     "execution_count": 19,
     "metadata": {},
     "output_type": "execute_result"
    }
   ],
   "source": [
    "a[1,1]"
   ]
  },
  {
   "cell_type": "markdown",
   "id": "450e648f-682c-4bb7-ad6a-22c013ff1261",
   "metadata": {},
   "source": [
    "## Functions\n",
    "\n",
    "'print' was out first example of a Python **function**.\n",
    "\n",
    "Functions take in a set of **arguments**n and those arguments create an **output**.\n",
    "\n",
    "Argument = Parameter.\n",
    "\n",
    "We can ask information about a fucntion by executing '?function'\n",
    "\n"
   ]
  },
  {
   "cell_type": "markdown",
   "id": "1e3d36b2-167b-4f79-8f0b-79f9c00ab04a",
   "metadata": {
    "tags": []
   },
   "source": [
    "?print"
   ]
  },
  {
   "cell_type": "markdown",
   "id": "4f926262-0ce9-41c8-9393-b60017c96841",
   "metadata": {},
   "source": [
    "# This information is a **docstring**.\n",
    "\n",
    "A function has two types of arguments:\n",
    "    \n",
    "    - **non-optional argument**: arguments *you* need to specify or the fucntion to do something\n",
    "    - **optional argument**: arguments that are pre-filled witha default valye by the function. You can override them. \n",
    "    Optional arguments appear inside the parenthesis in the form optional_argument=default_value"
   ]
  },
  {
   "cell_type": "code",
   "execution_count": 23,
   "id": "fba7a704-0093-47a9-930b-218733644f37",
   "metadata": {
    "tags": []
   },
   "outputs": [
    {
     "name": "stdout",
     "output_type": "stream",
     "text": [
      "changing the default end argument :)"
     ]
    }
   ],
   "source": [
    "print('changing the default end argument', end=' :)')"
   ]
  },
  {
   "cell_type": "markdown",
   "id": "6bd0fd0f-b13b-4c86-a180-383f7267992e",
   "metadata": {},
   "source": [
    "## Attributes & Methods\n",
    "\n",
    "An object in Python has attributes and methods. \n",
    "\n",
    "Methods are actions that can be applied to an object\n",
    "Format method(object)\n",
    "\n",
    "Attributes are properties an object has that can be called\n",
    "Format: object.attribute\n",
    "\n",
    "- **attributes**: a property of an object, some piece of information about it \n",
    "- **method**: a procedure associated with an object, an action where the main ingredient is the object\n",
    "\n",
    "**Example**\n",
    "Attributes for 'numpy.arrays'\n",
    "\n",
    "We can access a variable's attributes and methods by adding a period '.' at the end of the variable's name.\n",
    "\n",
    "'variable.method()' or variable.attribute'"
   ]
  },
  {
   "cell_type": "code",
   "execution_count": 31,
   "id": "cbddfcd0-f95c-4036-b8b8-c967a7f63784",
   "metadata": {
    "tags": []
   },
   "outputs": [
    {
     "data": {
      "text/plain": [
       "(2, 3)"
      ]
     },
     "execution_count": 31,
     "metadata": {},
     "output_type": "execute_result"
    }
   ],
   "source": [
    "a.shape"
   ]
  },
  {
   "cell_type": "code",
   "execution_count": 33,
   "id": "41750955-5088-4c0b-b4da-0bfdd0b9e37b",
   "metadata": {
    "tags": []
   },
   "outputs": [
    {
     "data": {
      "text/plain": [
       "tuple"
      ]
     },
     "execution_count": 33,
     "metadata": {},
     "output_type": "execute_result"
    }
   ],
   "source": [
    "type(a.shape)"
   ]
  },
  {
   "cell_type": "code",
   "execution_count": 34,
   "id": "5d570611-292a-4bfb-a4b4-bd3cfdc331b3",
   "metadata": {
    "tags": []
   },
   "outputs": [
    {
     "data": {
      "text/plain": [
       "array([1, 1, 2])"
      ]
     },
     "execution_count": 34,
     "metadata": {},
     "output_type": "execute_result"
    }
   ],
   "source": [
    "# Methods examples\n",
    "# min() returns the minimum value along a specified axis\n",
    "a.min(axis=0)"
   ]
  },
  {
   "cell_type": "markdown",
   "id": "b2aae682-c48f-4e49-ad4e-9b8c8dceef8b",
   "metadata": {},
   "source": [
    "## Check-in\n",
    "\n",
    "We can also call the min method without any parameters"
   ]
  },
  {
   "cell_type": "code",
   "execution_count": 35,
   "id": "73221ffd-de58-48b3-8ed2-863b18313846",
   "metadata": {
    "tags": []
   },
   "outputs": [
    {
     "data": {
      "text/plain": [
       "1"
      ]
     },
     "execution_count": 35,
     "metadata": {},
     "output_type": "execute_result"
    }
   ],
   "source": [
    "a.min()"
   ]
  },
  {
   "cell_type": "markdown",
   "id": "6fa7abe9-3143-43ff-8462-82459de6f3bb",
   "metadata": {},
   "source": [
    "Remeber: methods are functions associated with an object."
   ]
  },
  {
   "cell_type": "code",
   "execution_count": 37,
   "id": "dee7ee53-dbba-4fa5-bba7-2a221af49a56",
   "metadata": {
    "tags": []
   },
   "outputs": [
    {
     "data": {
      "text/plain": [
       "builtin_function_or_method"
      ]
     },
     "execution_count": 37,
     "metadata": {},
     "output_type": "execute_result"
    }
   ],
   "source": [
    "type(a.min)"
   ]
  },
  {
   "cell_type": "markdown",
   "id": "11db275f-ea21-443b-af5f-f7bdaf27d647",
   "metadata": {
    "tags": []
   },
   "source": [
    "## Excercise\n",
    "\n",
    "1. Read the 'print' function help. What is the type of argument 'sep'?. Is this an optional or non-optional argument? Why?\n",
    "Optional because there is no default argument\n",
    "\n",
    "2. Create two new variables, one with the integer value 77 and another with the string 99.\n",
    "\n",
    "\n",
    "3. Use your variables to print 77%99%77 by changing the value of one of the optional arguments in \"print\""
   ]
  },
  {
   "cell_type": "code",
   "execution_count": 45,
   "id": "7cca34ab-5e97-48dd-bd83-c317ed6ccaba",
   "metadata": {
    "tags": []
   },
   "outputs": [
    {
     "data": {
      "text/plain": [
       "\u001b[0;31mSignature:\u001b[0m \u001b[0mprint\u001b[0m\u001b[0;34m(\u001b[0m\u001b[0;34m*\u001b[0m\u001b[0margs\u001b[0m\u001b[0;34m,\u001b[0m \u001b[0msep\u001b[0m\u001b[0;34m=\u001b[0m\u001b[0;34m' '\u001b[0m\u001b[0;34m,\u001b[0m \u001b[0mend\u001b[0m\u001b[0;34m=\u001b[0m\u001b[0;34m'\\n'\u001b[0m\u001b[0;34m,\u001b[0m \u001b[0mfile\u001b[0m\u001b[0;34m=\u001b[0m\u001b[0;32mNone\u001b[0m\u001b[0;34m,\u001b[0m \u001b[0mflush\u001b[0m\u001b[0;34m=\u001b[0m\u001b[0;32mFalse\u001b[0m\u001b[0;34m)\u001b[0m\u001b[0;34m\u001b[0m\u001b[0;34m\u001b[0m\u001b[0m\n",
       "\u001b[0;31mDocstring:\u001b[0m\n",
       "Prints the values to a stream, or to sys.stdout by default.\n",
       "\n",
       "sep\n",
       "  string inserted between values, default a space.\n",
       "end\n",
       "  string appended after the last value, default a newline.\n",
       "file\n",
       "  a file-like object (stream); defaults to the current sys.stdout.\n",
       "flush\n",
       "  whether to forcibly flush the stream.\n",
       "\u001b[0;31mType:\u001b[0m      builtin_function_or_method"
      ]
     },
     "metadata": {},
     "output_type": "display_data"
    }
   ],
   "source": [
    "?print"
   ]
  },
  {
   "cell_type": "code",
   "execution_count": 61,
   "id": "ce3703d3-f1bb-4926-8724-abdccf7708f4",
   "metadata": {
    "tags": []
   },
   "outputs": [],
   "source": [
    "x = 77\n",
    "y = '99'"
   ]
  },
  {
   "cell_type": "code",
   "execution_count": 66,
   "id": "030c5dea-e09d-45e3-a509-f3a86bb6e13e",
   "metadata": {
    "tags": []
   },
   "outputs": [
    {
     "name": "stdout",
     "output_type": "stream",
     "text": [
      "77%99%77\n"
     ]
    }
   ],
   "source": [
    "print(x, y, x, sep='%')"
   ]
  }
 ],
 "metadata": {
  "kernelspec": {
   "display_name": "EDS220",
   "language": "python",
   "name": "eds220-env"
  },
  "language_info": {
   "codemirror_mode": {
    "name": "ipython",
    "version": 3
   },
   "file_extension": ".py",
   "mimetype": "text/x-python",
   "name": "python",
   "nbconvert_exporter": "python",
   "pygments_lexer": "ipython3",
   "version": "3.11.4"
  }
 },
 "nbformat": 4,
 "nbformat_minor": 5
}
