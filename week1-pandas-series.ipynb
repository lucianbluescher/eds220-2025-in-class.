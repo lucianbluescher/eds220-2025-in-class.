{
 "cells": [
  {
   "cell_type": "code",
   "execution_count": 7,
   "id": "1bf32527-f22d-4f93-a147-e32f1f75ef06",
   "metadata": {
    "tags": []
   },
   "outputs": [],
   "source": [
    "import pandas as pd\n",
    "import numpy as np"
   ]
  },
  {
   "cell_type": "code",
   "execution_count": 8,
   "id": "2fd5887d-8341-41c4-b045-63e63b384b2c",
   "metadata": {
    "tags": []
   },
   "outputs": [
    {
     "name": "stdout",
     "output_type": "stream",
     "text": [
      "<class 'numpy.ndarray'>\n",
      "[-0.81485323  0.63848538  0.62793357 -1.25310442] \n",
      "\n",
      "<class 'pandas.core.series.Series'>\n",
      "0   -0.814853\n",
      "1    0.638485\n",
      "2    0.627934\n",
      "3   -1.253104\n",
      "dtype: float64\n"
     ]
    }
   ],
   "source": [
    "# A numpy array\n",
    "arr = np.random.randn(4) # random values from std normal distribution\n",
    "print(type(arr))\n",
    "print(arr, \"\\n\")\n",
    "\n",
    "# A pandas series made from the previous array\n",
    "s = pd.Series(arr)\n",
    "print(type(s))\n",
    "print(s)"
   ]
  },
  {
   "cell_type": "code",
   "execution_count": 9,
   "id": "61c285ab-6c6b-4b03-8263-1b21f277f00a",
   "metadata": {
    "tags": []
   },
   "outputs": [
    {
     "ename": "NameError",
     "evalue": "name 'data' is not defined",
     "output_type": "error",
     "traceback": [
      "\u001b[0;31m---------------------------------------------------------------------------\u001b[0m",
      "\u001b[0;31mNameError\u001b[0m                                 Traceback (most recent call last)",
      "Cell \u001b[0;32mIn[9], line 1\u001b[0m\n\u001b[0;32m----> 1\u001b[0m s \u001b[38;5;241m=\u001b[39m pd\u001b[38;5;241m.\u001b[39mSeries(\u001b[43mdata\u001b[49m, index\u001b[38;5;241m=\u001b[39mindex) \u001b[38;5;66;03m# Basic method for making pandas.Series\u001b[39;00m\n",
      "\u001b[0;31mNameError\u001b[0m: name 'data' is not defined"
     ]
    }
   ],
   "source": [
    "s = pd.Series(data, index=index) # Basic method for making pandas.Series"
   ]
  },
  {
   "cell_type": "markdown",
   "id": "ce257d2e-ac44-4d12-8c0a-b0ead9c799a0",
   "metadata": {
    "tags": []
   },
   "source": [
    "The DATA parameter can be:\n",
    "a list or NumPy array,\n",
    "a Python dictionary, or\n",
    "a single number, boolean (True/False), or string.\n",
    "\n",
    "The INDEX parameter is optional, if we wish to include it, it must be a list of list of indices of the same length as data."
   ]
  },
  {
   "cell_type": "code",
   "execution_count": null,
   "id": "24bcb7e9-e648-45ee-9bbb-98ef8f27568a",
   "metadata": {
    "tags": []
   },
   "outputs": [],
   "source": [
    "# A series from a numpy array \n",
    "pd.Series(np.arange(3), index=[2023, 2024, 2025])"
   ]
  },
  {
   "cell_type": "code",
   "execution_count": null,
   "id": "8a80b152-b589-4775-87d9-13635d55b40a",
   "metadata": {
    "tags": []
   },
   "outputs": [],
   "source": [
    "# Construct dictionary\n",
    "d = {'key_0':2, 'key_1':'3', 'key_2':5}\n",
    "\n",
    "# Initialize series using a dictionary\n",
    "pd.Series(d)"
   ]
  },
  {
   "cell_type": "code",
   "execution_count": null,
   "id": "baf038a3-593b-457f-be62-2682ee67a745",
   "metadata": {
    "tags": []
   },
   "outputs": [],
   "source": [
    "pd.Series(3.0, index = ['A', 'B', 'C'])"
   ]
  },
  {
   "cell_type": "code",
   "execution_count": null,
   "id": "4cbf7455-b68e-481b-9c9e-5984c0728918",
   "metadata": {
    "tags": []
   },
   "outputs": [],
   "source": [
    "# Define a series\n",
    "s = pd.Series([98,73,65],index=['Andrea', 'Beth', 'Carolina'])\n",
    "\n",
    "# Divide each element in series by 10\n",
    "print(s /10, '\\n')\n",
    "\n",
    "# Take the exponential of each element in series\n",
    "print(np.exp(s), '\\n')\n",
    "\n",
    "# Original series is unchanged\n",
    "print(s)"
   ]
  },
  {
   "cell_type": "code",
   "execution_count": null,
   "id": "6f91acb3-6e1b-4fd5-9e0f-679c3775ff62",
   "metadata": {
    "tags": []
   },
   "outputs": [],
   "source": [
    "s > 70"
   ]
  },
  {
   "cell_type": "code",
   "execution_count": null,
   "id": "4bb2d6ce-a5b4-4971-9b47-9e0cba752612",
   "metadata": {
    "tags": []
   },
   "outputs": [],
   "source": [
    "# Series with NAs in it\n",
    "s = pd.Series([1, 2, np.nan, 4, np.nan])\n",
    "s"
   ]
  },
  {
   "cell_type": "code",
   "execution_count": null,
   "id": "d7d71866-318d-4fbb-9cff-dae53fc4f376",
   "metadata": {
    "tags": []
   },
   "outputs": [],
   "source": [
    "# Check if series has NAs\n",
    "s.hasnans"
   ]
  },
  {
   "cell_type": "code",
   "execution_count": null,
   "id": "11a55679-6445-40ad-82d9-d66dd59c411c",
   "metadata": {
    "tags": []
   },
   "outputs": [],
   "source": [
    "# Which elements in the series are NAs\n",
    "s.isna()"
   ]
  },
  {
   "cell_type": "code",
   "execution_count": 17,
   "id": "5786b22a-7094-495f-b984-e1291ebfd1fc",
   "metadata": {
    "tags": []
   },
   "outputs": [
    {
     "data": {
      "text/html": [
       "<div>\n",
       "<style scoped>\n",
       "    .dataframe tbody tr th:only-of-type {\n",
       "        vertical-align: middle;\n",
       "    }\n",
       "\n",
       "    .dataframe tbody tr th {\n",
       "        vertical-align: top;\n",
       "    }\n",
       "\n",
       "    .dataframe thead th {\n",
       "        text-align: right;\n",
       "    }\n",
       "</style>\n",
       "<table border=\"1\" class=\"dataframe\">\n",
       "  <thead>\n",
       "    <tr style=\"text-align: right;\">\n",
       "      <th></th>\n",
       "      <th>C1</th>\n",
       "      <th>C2</th>\n",
       "    </tr>\n",
       "  </thead>\n",
       "  <tbody>\n",
       "    <tr>\n",
       "      <th>0</th>\n",
       "      <td>0</td>\n",
       "      <td>3.1</td>\n",
       "    </tr>\n",
       "    <tr>\n",
       "      <th>1</th>\n",
       "      <td>1</td>\n",
       "      <td>3.2</td>\n",
       "    </tr>\n",
       "    <tr>\n",
       "      <th>2</th>\n",
       "      <td>2</td>\n",
       "      <td>3.3</td>\n",
       "    </tr>\n",
       "  </tbody>\n",
       "</table>\n",
       "</div>"
      ],
      "text/plain": [
       "   C1   C2\n",
       "0   0  3.1\n",
       "1   1  3.2\n",
       "2   2  3.3"
      ]
     },
     "execution_count": 17,
     "metadata": {},
     "output_type": "execute_result"
    }
   ],
   "source": [
    "# Initialize dictionary with columns' data \n",
    "d = {'col_name_1' : pd.Series(np.arange(3)),\n",
    "     'col_name_2' : pd.Series([3.1, 3.2, 3.3]),\n",
    "     }\n",
    "\n",
    "# Create data frame\n",
    "df = pd.DataFrame(d)\n",
    "df\n",
    "\n",
    "# Use .columns attribute\n",
    "df.columns = ['C1', 'C2'] # Call columns, they equal this list\n",
    "df"
   ]
  },
  {
   "cell_type": "code",
   "execution_count": null,
   "id": "27e39f1e-2ac0-4ae7-b9e4-0508e430e3c5",
   "metadata": {
    "tags": []
   },
   "outputs": [],
   "source": [
    "# Change index\n",
    "df.index = ['a','b','c']\n",
    "df"
   ]
  },
  {
   "cell_type": "markdown",
   "id": "b4da474f-aa19-491c-8b38-2cfa6e141783",
   "metadata": {},
   "source": [
    "Solve the check-in exercises. We’ll present these during class."
   ]
  },
  {
   "cell_type": "code",
   "execution_count": 28,
   "id": "91d1ad5a-e073-4fa5-aeac-db6654f3bf47",
   "metadata": {
    "tags": []
   },
   "outputs": [
    {
     "data": {
      "text/plain": [
       "A   -999\n",
       "B   -999\n",
       "C      1\n",
       "D      2\n",
       "dtype: int64"
      ]
     },
     "execution_count": 28,
     "metadata": {},
     "output_type": "execute_result"
    }
   ],
   "source": [
    "s = pd.Series([-999,-999,1,2], index = [\"A\", \"B\", \"C\", \"D\"])\n",
    "s"
   ]
  },
  {
   "cell_type": "code",
   "execution_count": 39,
   "id": "d5b83570-07a9-44fb-b4ae-5d218a036cff",
   "metadata": {
    "tags": []
   },
   "outputs": [
    {
     "data": {
      "text/plain": [
       "A    NaN\n",
       "B    NaN\n",
       "C    1.0\n",
       "D    2.0\n",
       "dtype: float64"
      ]
     },
     "execution_count": 39,
     "metadata": {},
     "output_type": "execute_result"
    }
   ],
   "source": [
    "s.mask(s == -999, inplace=True) # Replace with NaN in s where s == -999\n",
    "s"
   ]
  },
  {
   "cell_type": "markdown",
   "id": "ffc58337-21ac-41e1-9044-c2a5ee86c87e",
   "metadata": {},
   "source": [
    "Make a summary of the lesson. What are the most important concepts or ideas?\n",
    "\n",
    "A Series is essentially a one column (One Dimensional) list(Actually an Array) with an index. A Numpy array has no index\n",
    "\n",
    "Construct a series by giving pd.Series some values in a list [] and an optional index, default index will be 0,1,2 \n",
    "\n",
    "Construct a Dataframe by giving pd.DataFrame a multidimensional dictionary then change column names with df.columns = ['a', 'b']\n",
    "\n",
    "You can quickly look for adaptations to pandas series and dataframes using pandas documentation"
   ]
  }
 ],
 "metadata": {
  "kernelspec": {
   "display_name": "EDS220",
   "language": "python",
   "name": "eds220-env"
  },
  "language_info": {
   "codemirror_mode": {
    "name": "ipython",
    "version": 3
   },
   "file_extension": ".py",
   "mimetype": "text/x-python",
   "name": "python",
   "nbconvert_exporter": "python",
   "pygments_lexer": "ipython3",
   "version": "3.11.4"
  }
 },
 "nbformat": 4,
 "nbformat_minor": 5
}
